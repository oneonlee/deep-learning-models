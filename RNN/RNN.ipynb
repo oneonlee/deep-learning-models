{
 "cells": [
  {
   "cell_type": "code",
   "execution_count": 1,
   "metadata": {
    "colab": {
     "base_uri": "https://localhost:8080/"
    },
    "id": "3IxYkVqqdOWe",
    "outputId": "b6560a78-e7cd-4da7-e033-01bf890d6bd6"
   },
   "outputs": [],
   "source": [
    "import os\n",
    "import torch\n",
    "import torch.nn as nn"
   ]
  },
  {
   "cell_type": "code",
   "execution_count": 2,
   "metadata": {
    "id": "LxKQHEZdS7pG"
   },
   "outputs": [
    {
     "name": "stdout",
     "output_type": "stream",
     "text": [
      "Device: cuda\n",
      "Current cuda device: 0\n",
      "Count of using GPUs: 1\n"
     ]
    }
   ],
   "source": [
    "os.environ[\"CUDA_DEVICE_ORDER\"]=\"PCI_BUS_ID\"  # Arrange GPU devices starting from 0\n",
    "os.environ[\"CUDA_VISIBLE_DEVICES\"]= \"5\"  # Set the GPU 5 to use\n",
    "\n",
    "device = 'cuda' if torch.cuda.is_available() else 'cpu'\n",
    "print('Device:', device)\n",
    "print('Current cuda device:', torch.cuda.current_device())\n",
    "print('Count of using GPUs:', torch.cuda.device_count())"
   ]
  },
  {
   "cell_type": "code",
   "execution_count": 3,
   "metadata": {},
   "outputs": [],
   "source": [
    "# for reproducibility -> 동일한 난수가 생성되도록 함\n",
    "torch.manual_seed(777)\n",
    "if device == 'cuda':\n",
    "    torch.cuda.manual_seed_all(777)"
   ]
  },
  {
   "cell_type": "markdown",
   "metadata": {
    "id": "1rsR4EZHSa9w"
   },
   "source": [
    "## Parameters"
   ]
  },
  {
   "cell_type": "code",
   "execution_count": 4,
   "metadata": {
    "id": "ZLGsp7ZzSa2P"
   },
   "outputs": [],
   "source": [
    "epochs = 40\n",
    "learning_rate = 0.01 # or use 1e-3\n",
    "\n",
    "input_size = 1\n",
    "hidden_size = 128\n",
    "output_size = 1\n",
    "seq_len = 24\n",
    "num_layers = 4"
   ]
  },
  {
   "cell_type": "markdown",
   "metadata": {
    "id": "4_maaxIDS1ER"
   },
   "source": [
    "## Model"
   ]
  },
  {
   "cell_type": "markdown",
   "metadata": {},
   "source": [
    "### PyTorch에서 제공하는 `nn.RNNCell` 코드 예제\n",
    "```python\n",
    ">>> rnn = nn.RNNCell(input_size, hidden_size) # (I, H)\n",
    ">>> input = torch.randn(seq_len, 3, input_size) # (L, B, I)\n",
    ">>> hx = torch.randn(3, hidden_size) # (B, H)\n",
    ">>> output = []\n",
    ">>> for i in range(seq_len): \n",
    "...     hx = rnn(input[i], hx) \n",
    "...     output.append(hx) # (L, B, H)\n",
    "```"
   ]
  },
  {
   "cell_type": "markdown",
   "metadata": {},
   "source": [
    "### PyTorch에서 제공하는 `nn.RNN` 코드 예제\n",
    "```python\n",
    ">>> rnn = nn.RNN(input_size, hidden_size, num_layers, batch_first=False) # (I, H, num_layers)\n",
    ">>> input = torch.randn(seq_len, 3, input_size) # (L, B, I)\n",
    ">>> h0 = torch.randn(num_layers, 3, hidden_size) # (num_layers, B, H)\n",
    ">>> output, hn = rnn(input, h0)\n",
    ">>> output.shape # (L, B, H)\n",
    "```"
   ]
  },
  {
   "cell_type": "markdown",
   "metadata": {
    "id": "c3BtQF6eO_h-"
   },
   "source": [
    "### 메모리 셀에서 은닉 상태를 계산하는 식을 다음과 같이 정의하였음\n",
    "\n",
    "$a_{t} = x_{t}U + h_{t−1}W + b$<br>\n",
    "$h_{t} = \\tanh{(a_{t})} = \\tanh{(x_{t}U + h_{t−1}W + b)}$<br>\n",
    "$o_{t} = h_{t}V + c$\n"
   ]
  },
  {
   "cell_type": "code",
   "execution_count": 5,
   "metadata": {
    "id": "_bmv-dhZSSel"
   },
   "outputs": [],
   "source": [
    "class RNN_Cell(nn.Module):\n",
    "\n",
    "    def __init__(self, input_size, hidden_size):\n",
    "        super(RNN_Cell, self).__init__()\n",
    "\n",
    "        self.input_size = input_size\n",
    "        self.hidden_size = hidden_size\n",
    "\n",
    "        self.U = nn.Linear(input_size, hidden_size, bias=True)  # input to hidden (I, H), bias:b1\n",
    "        self.W = nn.Linear(hidden_size, hidden_size, bias=True) # hidden to hidden (H, H), bias:b2\n",
    "    \n",
    "    def forward(self, x_t, h_prev):\n",
    "        # x_t (input of an RNN Cell)  : (Batch_size, Input_size)\n",
    "        # h_t (hidden of an RNN Cell) : (Batch_size, Hidden_size)\n",
    "\n",
    "        a_t = self.U(x_t) + self.W(h_prev)  # x_t * U + h_(t-1) * U + b : (B, H)\n",
    "        h_t = torch.tanh(a_t)               # tanh{x_t * U + h_(t-1) * W + b} : (B, H)\n",
    "\n",
    "        return h_t # hidden of an RNN Cell\n",
    "\n",
    "\n",
    "class RNN_Model(nn.Module):\n",
    "\n",
    "    def __init__(self, input_size, hidden_size, output_size, num_layers=1, batch_first=False):\n",
    "        assert batch_first==True, \"batch_first 값이 True일 때만 동작\"\n",
    "        \n",
    "        super(RNN_Model, self).__init__()\n",
    "\n",
    "        self.input_size = input_size\n",
    "        self.hidden_size = hidden_size\n",
    "        self.num_layers = num_layers\n",
    "\n",
    "        self.rnn = RNN_Cell(input_size, hidden_size)\n",
    "        self.rnn_layers = nn.ModuleList([self.rnn] + [RNN_Cell(hidden_size, hidden_size) for _ in range(self.num_layers - 1)]).to(device)\n",
    "\n",
    "        self.fc1 = nn.Linear(hidden_size, hidden_size, bias=True)  # (H, H)\n",
    "        self.drop1 = nn.Dropout(0.25)\n",
    "        self.fc2 = nn.Linear(hidden_size, hidden_size, bias=True) # (H, H)\n",
    "        self.drop2 = nn.Dropout(0.25)\n",
    "        self.fc3 = nn.Linear(hidden_size, output_size, bias=True) # (H, O)\n",
    "\n",
    "    def forward(self, x):\n",
    "        # Assume that Shape of x is batch_first=True : (B, L, I)\n",
    "        batch_size = x.size(0)\n",
    "        seq_len = x.size(1)\n",
    "        \n",
    "        # Initialize hidden state of each layers\n",
    "        hiddens = [torch.zeros(batch_size, self.hidden_size).to(device) for i in range(self.num_layers)]\n",
    "              \n",
    "        # Reshape Input Size to make batch_first=True to \"batch_first=False\"\n",
    "        x = x.transpose(0, 1) # (B, L, I) -> (L, B, I)\n",
    "    \n",
    "        # Propagate input through RNN\n",
    "        # Input at t   : (Batch_size, Input_size)\n",
    "        # Input        : (Seq_length, Batch_size, Input_size)\n",
    "        # Hiddens      : (Num_layers, Batch_size, Hidden_size)\n",
    "        # Hidden at t  : (Batch_size, Hidden_size)\n",
    "        # Final Hidden : (Seq_length, Batch_size, Hidden_size)\n",
    "        # Output       : (Seq_length, Batch_size, Hidden_size)\n",
    "\n",
    "        final_hidden_states = []\n",
    "        for t in range(seq_len):\n",
    "            input = x[t, :, :]  \n",
    "            for layer_idx, rnn_layer in enumerate(self.rnn_layers):\n",
    "                hiddens[layer_idx] = rnn_layer(input, hiddens[layer_idx])\n",
    "                input = hiddens[layer_idx] # (B, H)\n",
    "            final_hidden_states.append(hiddens[-1])\n",
    "            \n",
    "        # list to tensor\n",
    "        output = torch.stack(final_hidden_states, dim=0) # (L, B, H)\n",
    "        \n",
    "        output = self.drop1(self.fc1(output))   # (L, B, H) -> (L, B, H)\n",
    "        output = self.drop2(self.fc2(output))   # (L, B, H) -> (L, B, H)\n",
    "        output = self.fc3(output)               # (L, B, H) -> (L, B, O)\n",
    "        \n",
    "        # Reshape Output Size for batch_first=True\n",
    "        output_sequnce = output.transpose(0, 1) # (L, B, O) -> (B, L, O)\n",
    "           \n",
    "        return output_sequence # (B, L, O)"
   ]
  },
  {
   "cell_type": "markdown",
   "metadata": {
    "id": "tsLBOySDt8tY"
   },
   "source": [
    "## Instantiate RNN model"
   ]
  },
  {
   "cell_type": "code",
   "execution_count": 6,
   "metadata": {
    "colab": {
     "base_uri": "https://localhost:8080/"
    },
    "id": "-Ln67bq8LN5X",
    "outputId": "857ceab7-e98b-40d3-b7f9-840e8aa2f12a"
   },
   "outputs": [
    {
     "name": "stdout",
     "output_type": "stream",
     "text": [
      "RNN_Model(\n",
      "  (rnn): RNN_Cell(\n",
      "    (U): Linear(in_features=1, out_features=128, bias=True)\n",
      "    (W): Linear(in_features=128, out_features=128, bias=True)\n",
      "  )\n",
      "  (rnn_layers): ModuleList(\n",
      "    (0): RNN_Cell(\n",
      "      (U): Linear(in_features=1, out_features=128, bias=True)\n",
      "      (W): Linear(in_features=128, out_features=128, bias=True)\n",
      "    )\n",
      "    (1): RNN_Cell(\n",
      "      (U): Linear(in_features=128, out_features=128, bias=True)\n",
      "      (W): Linear(in_features=128, out_features=128, bias=True)\n",
      "    )\n",
      "    (2): RNN_Cell(\n",
      "      (U): Linear(in_features=128, out_features=128, bias=True)\n",
      "      (W): Linear(in_features=128, out_features=128, bias=True)\n",
      "    )\n",
      "    (3): RNN_Cell(\n",
      "      (U): Linear(in_features=128, out_features=128, bias=True)\n",
      "      (W): Linear(in_features=128, out_features=128, bias=True)\n",
      "    )\n",
      "  )\n",
      "  (fc1): Linear(in_features=128, out_features=128, bias=True)\n",
      "  (drop1): Dropout(p=0.25, inplace=False)\n",
      "  (fc2): Linear(in_features=128, out_features=128, bias=True)\n",
      "  (drop2): Dropout(p=0.25, inplace=False)\n",
      "  (fc3): Linear(in_features=128, out_features=1, bias=True)\n",
      ")\n"
     ]
    }
   ],
   "source": [
    "model = RNN_Model(input_size, hidden_size, output_size, num_layers, batch_first=True).to(device)\n",
    "print(model)"
   ]
  }
 ],
 "metadata": {
  "accelerator": "GPU",
  "colab": {
   "provenance": []
  },
  "gpuClass": "standard",
  "kernelspec": {
   "display_name": "Python 3 (ipykernel)",
   "language": "python",
   "name": "python3"
  },
  "language_info": {
   "codemirror_mode": {
    "name": "ipython",
    "version": 3
   },
   "file_extension": ".py",
   "mimetype": "text/x-python",
   "name": "python",
   "nbconvert_exporter": "python",
   "pygments_lexer": "ipython3",
   "version": "3.8.10"
  }
 },
 "nbformat": 4,
 "nbformat_minor": 4
}
